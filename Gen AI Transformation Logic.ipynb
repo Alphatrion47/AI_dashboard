{
 "cells": [
  {
   "cell_type": "code",
   "execution_count": 1,
   "id": "3612336a-23da-45ef-82d3-43dedc713490",
   "metadata": {},
   "outputs": [],
   "source": [
    "import numpy as np\n",
    "import pandas as pd\n",
    "import os"
   ]
  },
  {
   "cell_type": "code",
   "execution_count": 2,
   "id": "de413d4f-c270-4aa8-bc72-a4e5646666de",
   "metadata": {
    "panel-layout": {
     "height": 379.653,
     "visible": true,
     "width": 100
    }
   },
   "outputs": [],
   "source": [
    "file_path = './Transformation File01.xlsx'\n",
    "df = pd.read_excel(file_path)"
   ]
  },
  {
   "cell_type": "code",
   "execution_count": 3,
   "id": "81fd4865-318e-4305-9344-84580d03332b",
   "metadata": {},
   "outputs": [
    {
     "data": {
      "text/plain": [
       "(35, 46)"
      ]
     },
     "execution_count": 3,
     "metadata": {},
     "output_type": "execute_result"
    }
   ],
   "source": [
    "df.shape"
   ]
  },
  {
   "cell_type": "code",
   "execution_count": 4,
   "id": "63ca45cf-80cf-40a0-832c-c1518eee085f",
   "metadata": {},
   "outputs": [
    {
     "data": {
      "text/plain": [
       "(31, 46)"
      ]
     },
     "execution_count": 4,
     "metadata": {},
     "output_type": "execute_result"
    }
   ],
   "source": [
    "df_cleaned = df.dropna(axis=1, how='all')\n",
    "df_cleaned = df.dropna(axis=0, how='all')\n",
    "\n",
    "df_cleaned.shape"
   ]
  },
  {
   "cell_type": "code",
   "execution_count": 19,
   "id": "42d79cb2-055c-4287-859d-8f5e825d241f",
   "metadata": {},
   "outputs": [
    {
     "data": {
      "text/html": [
       "<div>\n",
       "<style scoped>\n",
       "    .dataframe tbody tr th:only-of-type {\n",
       "        vertical-align: middle;\n",
       "    }\n",
       "\n",
       "    .dataframe tbody tr th {\n",
       "        vertical-align: top;\n",
       "    }\n",
       "\n",
       "    .dataframe thead th {\n",
       "        text-align: right;\n",
       "    }\n",
       "</style>\n",
       "<table border=\"1\" class=\"dataframe\">\n",
       "  <thead>\n",
       "    <tr style=\"text-align: right;\">\n",
       "      <th>8</th>\n",
       "      <th>Measurement Category</th>\n",
       "      <th>Assessment Area</th>\n",
       "      <th>Score</th>\n",
       "      <th>Comments</th>\n",
       "      <th>Value</th>\n",
       "      <th>Month</th>\n",
       "    </tr>\n",
       "  </thead>\n",
       "  <tbody>\n",
       "    <tr>\n",
       "      <th>0</th>\n",
       "      <td>Cost &amp; Control</td>\n",
       "      <td>Financial and contractual diligence</td>\n",
       "      <td>3</td>\n",
       "      <td>Victoria: No issues \\nJames: No issues in this...</td>\n",
       "      <td>Contractual Standard</td>\n",
       "      <td>Jan</td>\n",
       "    </tr>\n",
       "  </tbody>\n",
       "</table>\n",
       "</div>"
      ],
      "text/plain": [
       "8 Measurement Category                      Assessment Area Score  \\\n",
       "0       Cost & Control  Financial and contractual diligence     3   \n",
       "\n",
       "8                                           Comments                 Value  \\\n",
       "0  Victoria: No issues \\nJames: No issues in this...  Contractual Standard   \n",
       "\n",
       "8 Month  \n",
       "0   Jan  "
      ]
     },
     "execution_count": 19,
     "metadata": {},
     "output_type": "execute_result"
    }
   ],
   "source": [
    "df_cleaned.head(1)"
   ]
  },
  {
   "cell_type": "code",
   "execution_count": 6,
   "id": "750d4bae-149e-49c2-ba6d-3815c89e19aa",
   "metadata": {},
   "outputs": [
    {
     "data": {
      "text/plain": [
       "Index(['Unnamed: 0', 'Unnamed: 1', 'Unnamed: 2', 'Unnamed: 3', 'Unnamed: 4',\n",
       "       'Unnamed: 5', 'Unnamed: 6', 'Unnamed: 7', 'Unnamed: 8', 'Unnamed: 9',\n",
       "       'Unnamed: 10', 'Unnamed: 11', 'Unnamed: 12', 'Unnamed: 13',\n",
       "       'Unnamed: 14', 'Unnamed: 15', 'Unnamed: 16', 'Unnamed: 17',\n",
       "       'Unnamed: 18', 'Unnamed: 19', 'Unnamed: 20', 'Unnamed: 21',\n",
       "       'Unnamed: 22', 'Unnamed: 23', 'Unnamed: 24', 'Unnamed: 25',\n",
       "       'Unnamed: 26', 'Unnamed: 27', 'Unnamed: 28', 'Unnamed: 29',\n",
       "       'Unnamed: 30', 'Unnamed: 31', 'Unnamed: 32', 'Unnamed: 33',\n",
       "       'Unnamed: 34', 'Unnamed: 35', 'Unnamed: 36', 'Unnamed: 37',\n",
       "       'Unnamed: 38', 'Unnamed: 39', 'Unnamed: 40', 'Unnamed: 41',\n",
       "       'Unnamed: 42', 'Unnamed: 43', 'Unnamed: 44', 'Unnamed: 45'],\n",
       "      dtype='object')"
      ]
     },
     "execution_count": 6,
     "metadata": {},
     "output_type": "execute_result"
    }
   ],
   "source": [
    "df_cleaned.columns"
   ]
  },
  {
   "cell_type": "code",
   "execution_count": 7,
   "id": "1c8349e7-53f3-4350-98c3-bd44886adf45",
   "metadata": {},
   "outputs": [],
   "source": [
    "# df_cleaned = df_cleaned[['Unnamed: 1', 'Unnamed: 4', 'Unnamed: 24', 'Unnamed: 36', 'Unnamed: 38']]\n",
    "\n",
    "df_cleaned = df_cleaned[['Unnamed: 1', 'Unnamed: 4', 'Unnamed: 24', 'Unnamed: 36', 'Unnamed: 38'] + [f'Unnamed: {i}' for i in range(25, 36)]]"
   ]
  },
  {
   "cell_type": "code",
   "execution_count": 21,
   "id": "09140a6a-c889-4991-a053-5e0ee7442397",
   "metadata": {},
   "outputs": [
    {
     "data": {
      "text/html": [
       "<div>\n",
       "<style scoped>\n",
       "    .dataframe tbody tr th:only-of-type {\n",
       "        vertical-align: middle;\n",
       "    }\n",
       "\n",
       "    .dataframe tbody tr th {\n",
       "        vertical-align: top;\n",
       "    }\n",
       "\n",
       "    .dataframe thead th {\n",
       "        text-align: right;\n",
       "    }\n",
       "</style>\n",
       "<table border=\"1\" class=\"dataframe\">\n",
       "  <thead>\n",
       "    <tr style=\"text-align: right;\">\n",
       "      <th>8</th>\n",
       "      <th>Measurement Category</th>\n",
       "      <th>Assessment Area</th>\n",
       "      <th>Score</th>\n",
       "      <th>Comments</th>\n",
       "      <th>Value</th>\n",
       "      <th>Month</th>\n",
       "    </tr>\n",
       "  </thead>\n",
       "  <tbody>\n",
       "    <tr>\n",
       "      <th>0</th>\n",
       "      <td>Cost &amp; Control</td>\n",
       "      <td>Financial and contractual diligence</td>\n",
       "      <td>3</td>\n",
       "      <td>Victoria: No issues \\nJames: No issues in this...</td>\n",
       "      <td>Contractual Standard</td>\n",
       "      <td>Jan</td>\n",
       "    </tr>\n",
       "    <tr>\n",
       "      <th>1</th>\n",
       "      <td>Cost &amp; Control</td>\n",
       "      <td>Cost reduction</td>\n",
       "      <td>3</td>\n",
       "      <td>Victoria: No issues \\nJames: No issues in this...</td>\n",
       "      <td>Contractual Standard</td>\n",
       "      <td>Jan</td>\n",
       "    </tr>\n",
       "  </tbody>\n",
       "</table>\n",
       "</div>"
      ],
      "text/plain": [
       "8 Measurement Category                      Assessment Area Score  \\\n",
       "0       Cost & Control  Financial and contractual diligence     3   \n",
       "1       Cost & Control                       Cost reduction     3   \n",
       "\n",
       "8                                           Comments                 Value  \\\n",
       "0  Victoria: No issues \\nJames: No issues in this...  Contractual Standard   \n",
       "1  Victoria: No issues \\nJames: No issues in this...  Contractual Standard   \n",
       "\n",
       "8 Month  \n",
       "0   Jan  \n",
       "1   Jan  "
      ]
     },
     "execution_count": 21,
     "metadata": {},
     "output_type": "execute_result"
    }
   ],
   "source": [
    "df_cleaned.head(2)"
   ]
  },
  {
   "cell_type": "code",
   "execution_count": 9,
   "id": "8f57cd2a-ba28-4e34-9b0d-e5c09ab85301",
   "metadata": {},
   "outputs": [],
   "source": [
    "df_cleaned.columns = df_cleaned.iloc[8]"
   ]
  },
  {
   "cell_type": "code",
   "execution_count": 10,
   "id": "3dae5c1d-5b72-4805-86e9-3498a6164423",
   "metadata": {},
   "outputs": [
    {
     "data": {
      "text/plain": [
       "Index(['Measurement Category', 'Assessment Area', 'Jan', 'Score', 'Comments',\n",
       "       'Feb', 'Mar', 'Apr', 'May', 'Jun', 'Jul', 'Aug', 'Sep', 'Oct', 'Nov',\n",
       "       'Dec'],\n",
       "      dtype='object', name=8)"
      ]
     },
     "execution_count": 10,
     "metadata": {},
     "output_type": "execute_result"
    }
   ],
   "source": [
    "df_cleaned.columns"
   ]
  },
  {
   "cell_type": "code",
   "execution_count": 11,
   "id": "6d4aff1c-bf03-4cd8-91d1-15bb3567e902",
   "metadata": {},
   "outputs": [],
   "source": [
    "df_cleaned = df_cleaned[10:].reset_index(drop=True) "
   ]
  },
  {
   "cell_type": "code",
   "execution_count": 13,
   "id": "9810c3e7-2788-4b67-bdff-1ec8114204b5",
   "metadata": {},
   "outputs": [
    {
     "name": "stdout",
     "output_type": "stream",
     "text": [
      "01\n"
     ]
    }
   ],
   "source": [
    "file_name = os.path.basename(file_path)\n",
    "\n",
    "# Get the last 2 characters of the filename (assuming it's something like 'data_01.xlsx')\n",
    "month_suffix = file_name[-7:-5]\n",
    "\n",
    "print(month_suffix)"
   ]
  },
  {
   "cell_type": "code",
   "execution_count": 14,
   "id": "3ef980bc-28bb-4367-9b18-9bb049e2253f",
   "metadata": {},
   "outputs": [],
   "source": [
    "month_mapping = {\n",
    "    '01': 'Jan',\n",
    "    '02': 'Feb',\n",
    "    '03': 'Mar',\n",
    "    '04': 'Apr',\n",
    "    '05': 'May',\n",
    "    '06': 'Jun',\n",
    "    '07': 'Jul',\n",
    "    '08': 'Aug',\n",
    "    '09': 'Sep',\n",
    "    '10': 'Oct',\n",
    "    '11': 'Nov',\n",
    "    '12': 'Dec'\n",
    "}\n",
    "\n",
    "# Get the month name from the mapping\n",
    "month_to_consider = month_mapping.get(str(month_suffix))\n",
    "\n",
    "# Check if the mapping was successful\n",
    "if month_to_consider:\n",
    "    # Create 'Value' and 'Month' columns\n",
    "    df_cleaned['Value'] = df_cleaned[month_to_consider]\n",
    "    df_cleaned['Month'] = month_to_consider\n",
    "\n",
    "    # Drop the original month columns (Jan to Dec) as they are no longer needed\n",
    "    df_cleaned.drop(columns=['Jan', 'Feb', 'Mar', 'Apr', 'May', 'Jun', 'Jul', 'Aug', 'Sep', 'Oct', 'Nov', 'Dec'], inplace=True)"
   ]
  },
  {
   "cell_type": "code",
   "execution_count": 15,
   "id": "aef91ade-5f7d-4b2e-acf8-a3087d2d8177",
   "metadata": {},
   "outputs": [],
   "source": [
    "df_cleaned = df_cleaned.reset_index(drop=True)"
   ]
  },
  {
   "cell_type": "code",
   "execution_count": 16,
   "id": "c8609069-7deb-4ab1-a9ce-e23de3e89347",
   "metadata": {},
   "outputs": [],
   "source": [
    "df_cleaned['Measurement Category'] = df_cleaned['Measurement Category'].ffill()\n",
    "df_cleaned['Comments'] = df_cleaned['Comments'].ffill()"
   ]
  },
  {
   "cell_type": "code",
   "execution_count": 20,
   "id": "d051aa4c-7721-403e-a724-ff0957076da2",
   "metadata": {},
   "outputs": [
    {
     "data": {
      "text/html": [
       "<div>\n",
       "<style scoped>\n",
       "    .dataframe tbody tr th:only-of-type {\n",
       "        vertical-align: middle;\n",
       "    }\n",
       "\n",
       "    .dataframe tbody tr th {\n",
       "        vertical-align: top;\n",
       "    }\n",
       "\n",
       "    .dataframe thead th {\n",
       "        text-align: right;\n",
       "    }\n",
       "</style>\n",
       "<table border=\"1\" class=\"dataframe\">\n",
       "  <thead>\n",
       "    <tr style=\"text-align: right;\">\n",
       "      <th>8</th>\n",
       "      <th>Measurement Category</th>\n",
       "      <th>Assessment Area</th>\n",
       "      <th>Score</th>\n",
       "      <th>Comments</th>\n",
       "      <th>Value</th>\n",
       "      <th>Month</th>\n",
       "    </tr>\n",
       "  </thead>\n",
       "  <tbody>\n",
       "    <tr>\n",
       "      <th>0</th>\n",
       "      <td>Cost &amp; Control</td>\n",
       "      <td>Financial and contractual diligence</td>\n",
       "      <td>3</td>\n",
       "      <td>Victoria: No issues \\nJames: No issues in this...</td>\n",
       "      <td>Contractual Standard</td>\n",
       "      <td>Jan</td>\n",
       "    </tr>\n",
       "    <tr>\n",
       "      <th>1</th>\n",
       "      <td>Cost &amp; Control</td>\n",
       "      <td>Cost reduction</td>\n",
       "      <td>3</td>\n",
       "      <td>Victoria: No issues \\nJames: No issues in this...</td>\n",
       "      <td>Contractual Standard</td>\n",
       "      <td>Jan</td>\n",
       "    </tr>\n",
       "  </tbody>\n",
       "</table>\n",
       "</div>"
      ],
      "text/plain": [
       "8 Measurement Category                      Assessment Area Score  \\\n",
       "0       Cost & Control  Financial and contractual diligence     3   \n",
       "1       Cost & Control                       Cost reduction     3   \n",
       "\n",
       "8                                           Comments                 Value  \\\n",
       "0  Victoria: No issues \\nJames: No issues in this...  Contractual Standard   \n",
       "1  Victoria: No issues \\nJames: No issues in this...  Contractual Standard   \n",
       "\n",
       "8 Month  \n",
       "0   Jan  \n",
       "1   Jan  "
      ]
     },
     "execution_count": 20,
     "metadata": {},
     "output_type": "execute_result"
    }
   ],
   "source": [
    "df_cleaned.head(2)"
   ]
  },
  {
   "cell_type": "code",
   "execution_count": 18,
   "id": "101e51a3-669a-4d43-8f4a-ef4c21a17873",
   "metadata": {},
   "outputs": [],
   "source": [
    "# df_cleaned.to_excel('./Transformed Data.xlsx', index=False)"
   ]
  }
 ],
 "metadata": {
  "kernelspec": {
   "display_name": "Python 3 (ipykernel)",
   "language": "python",
   "name": "python3"
  },
  "language_info": {
   "codemirror_mode": {
    "name": "ipython",
    "version": 3
   },
   "file_extension": ".py",
   "mimetype": "text/x-python",
   "name": "python",
   "nbconvert_exporter": "python",
   "pygments_lexer": "ipython3",
   "version": "3.12.7"
  },
  "panel-cell-order": [
   "de413d4f-c270-4aa8-bc72-a4e5646666de"
  ]
 },
 "nbformat": 4,
 "nbformat_minor": 5
}
